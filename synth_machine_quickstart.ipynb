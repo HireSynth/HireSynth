{
 "cells": [
  {
   "cell_type": "markdown",
   "id": "c8acfdaf-d671-4a86-aa4e-6c612b921962",
   "metadata": {},
   "source": [
    "# Synth Machine Quickstart"
   ]
  },
  {
   "cell_type": "code",
   "execution_count": 1,
   "id": "ada458d7-7b6b-45d0-aa5f-b99582a79a30",
   "metadata": {},
   "outputs": [
    {
     "name": "stderr",
     "output_type": "stream",
     "text": [
      "/home/simonbutt/.cache/pypoetry/virtualenvs/tofuagent-SeWjU9e5-py3.12/lib/python3.12/site-packages/pydantic/_internal/_fields.py:160: UserWarning: Field \"model_name\" has conflict with protected namespace \"model_\".\n",
      "\n",
      "You may be able to resolve this warning by setting `model_config['protected_namespaces'] = ()`.\n",
      "  warnings.warn(\n"
     ]
    }
   ],
   "source": [
    "from synth_machine.machine import Synth\n",
    "import logging\n",
    "import json"
   ]
  },
  {
   "cell_type": "code",
   "execution_count": 2,
   "id": "995f14ab-b56c-43b8-906a-606763b037af",
   "metadata": {},
   "outputs": [],
   "source": [
    "# Set logging to debug to view all internals in transition trigger.\n",
    "logging.basicConfig(level=logging.ERROR)"
   ]
  },
  {
   "cell_type": "markdown",
   "id": "782af417-35b5-4c1b-8e62-c1658326416f",
   "metadata": {},
   "source": [
    "## Synth machine config\n",
    "#### Entire synth config spec can be found: https://hiresynth.ai/docs/spec.html"
   ]
  },
  {
   "cell_type": "code",
   "execution_count": 3,
   "id": "f4410afd-7a82-4b18-8e1c-62bf14a4f1ba",
   "metadata": {},
   "outputs": [],
   "source": [
    "config = {\n",
    "    \"default_model_config\": {\n",
    "        \"max_tokens\": 50\n",
    "    },\n",
    "    \"initial_state\": \"start\",\n",
    "    \"states\": [\n",
    "        {\n",
    "            \"name\": \"start\"\n",
    "        },\n",
    "        {\n",
    "            \"name\": \"end\"\n",
    "        }\n",
    "    ],\n",
    "    \"transitions\": [\n",
    "        {\n",
    "            \"source\": \"start\",\n",
    "            \"dest\": \"end\",\n",
    "            \"trigger\": \"run\",\n",
    "            \"inputs\": [\n",
    "                {\n",
    "                    \"key\": \"input1\"\n",
    "                }\n",
    "            ],\n",
    "            \"outputs\": [\n",
    "                {\n",
    "                    \"key\": \"output1\",\n",
    "                    \"prompt\": \"Tell me about {{ input1 }}\",\n",
    "                    \"schema\": {\n",
    "                        \"type\": \"string\"\n",
    "                    }\n",
    "                }\n",
    "            ]\n",
    "        },\n",
    "        {\n",
    "            \"source\": \"end\",\n",
    "            \"dest\": \"end\",\n",
    "            \"trigger\": \"mock_run\",\n",
    "            \"inputs\": [\n",
    "                {\n",
    "                    \"key\": \"output1\"\n",
    "                }\n",
    "            ],\n",
    "            \"outputs\": [\n",
    "                {\n",
    "                    \"key\": \"output2\",\n",
    "                    \"prompt\": \"Walk me through: {{ output1 }}\",\n",
    "                    \"schema\": {\n",
    "                        \"type\": \"string\"\n",
    "                    },\n",
    "                    \"model_config\": {\n",
    "                        \"executor\": \"mock\"\n",
    "                    }\n",
    "                }\n",
    "            ]\n",
    "        }\n",
    "    ]\n",
    "}"
   ]
  },
  {
   "cell_type": "markdown",
   "id": "1c61335a-7eb7-433b-bcd4-02b8f88c282e",
   "metadata": {},
   "source": [
    "## Tools\n",
    "#### Tools are RestAPIs and can be added by providing the JSON API schema"
   ]
  },
  {
   "cell_type": "code",
   "execution_count": 4,
   "id": "e071a73d-ed8a-4d7c-ae01-fb6969261915",
   "metadata": {},
   "outputs": [],
   "source": [
    "tool_spec = json.load(open(\"./tools/tofuTool/openapi_schema.json\"))"
   ]
  },
  {
   "cell_type": "code",
   "execution_count": 5,
   "id": "39a823ae-91c5-41e8-8636-84ae0f62135e",
   "metadata": {},
   "outputs": [
    {
     "data": {
      "text/plain": [
       "{'openapi': '3.1.0',\n",
       " 'info': {'title': 'FastAPI', 'version': '0.1.0'},\n",
       " 'paths': {'/tofu/validate': {'get': {'summary': ' Validate',\n",
       "    'operationId': '_validate_tofu_validate_get',\n",
       "    'responses': {'200': {'description': 'Successful Response',\n",
       "      'content': {'application/json': {'schema': {'type': 'object',\n",
       "         'title': 'Response  Validate Tofu Validate Get'}}}}}}},\n",
       "  '/tofu/plan': {'get': {'summary': ' Plan',\n",
       "    'description': 'Endpoint to generate and show Terraform plan in JSON format.',\n",
       "    'operationId': '_plan_tofu_plan_get',\n",
       "    'responses': {'200': {'description': 'Successful Response',\n",
       "      'content': {'application/json': {'schema': {'type': 'object',\n",
       "         'title': 'Response  Plan Tofu Plan Get'}}}}}}}}}"
      ]
     },
     "execution_count": 5,
     "metadata": {},
     "output_type": "execute_result"
    }
   ],
   "source": [
    "tool_spec"
   ]
  },
  {
   "cell_type": "markdown",
   "id": "612235fb-88a9-4976-a80b-61ea63019bb0",
   "metadata": {},
   "source": [
    "### Defining the Agent"
   ]
  },
  {
   "cell_type": "code",
   "execution_count": 6,
   "id": "2c6d34c4-a0f3-45ff-b2b1-21a2672f0739",
   "metadata": {},
   "outputs": [],
   "source": [
    "agent = Synth(\n",
    "    config,\n",
    "    tools=[tool_spec]\n",
    ")"
   ]
  },
  {
   "cell_type": "markdown",
   "id": "f6f33964-2ca9-44ab-a97d-89a174f7e764",
   "metadata": {},
   "source": [
    "### Agent state and possible triggers"
   ]
  },
  {
   "cell_type": "code",
   "execution_count": 7,
   "id": "2efbbf62-d23d-4ea8-9548-decd928432c4",
   "metadata": {},
   "outputs": [
    {
     "name": "stdout",
     "output_type": "stream",
     "text": [
      "Current State: start\n",
      "Available triggers: [{'source': 'start', 'dest': 'end', 'trigger': 'run', 'inputs': [{'key': 'input1'}], 'outputs': [{'key': 'output1', 'prompt': 'Tell me about {{ input1 }}', 'schema': {'type': 'string'}}]}]\n"
     ]
    }
   ],
   "source": [
    "print(f\"Current State: {agent.current_state()}\")\n",
    "print(f\"Available triggers: {agent.interfaces_for_available_triggers()}\")"
   ]
  },
  {
   "cell_type": "markdown",
   "id": "97946de6-97c1-4b69-84c7-ced32685492c",
   "metadata": {},
   "source": [
    "### Memory"
   ]
  },
  {
   "cell_type": "code",
   "execution_count": 8,
   "id": "796e791e-a18d-43a8-8d7b-42dd4557a9ab",
   "metadata": {},
   "outputs": [
    {
     "data": {
      "text/plain": [
       "{}"
      ]
     },
     "execution_count": 8,
     "metadata": {},
     "output_type": "execute_result"
    }
   ],
   "source": [
    "agent.memory"
   ]
  },
  {
   "cell_type": "markdown",
   "id": "34338b89-5613-4208-8647-68fcdb9fe27f",
   "metadata": {},
   "source": [
    "### Agent Trigger"
   ]
  },
  {
   "cell_type": "code",
   "execution_count": 9,
   "id": "31c5338e-f86e-486e-8103-f24adcb6198d",
   "metadata": {},
   "outputs": [
    {
     "name": "stdout",
     "output_type": "stream",
     "text": [
      "\n"
     ]
    },
    {
     "data": {
      "text/plain": [
       "{'output1': ' Fox News is an American cable and satellite news television channel owned by the Fox Entertainment Group, a subsidiary of 21st Century Fox. The channel broadcasts primarily from studios at 1211 Avenue of the Americas'}"
      ]
     },
     "execution_count": 9,
     "metadata": {},
     "output_type": "execute_result"
    }
   ],
   "source": [
    "await agent.trigger(\"run\", {\"input1\": \"FOX news\"})"
   ]
  },
  {
   "cell_type": "code",
   "execution_count": 10,
   "id": "a5b2cfd6-81f4-4ed4-ade4-53dc94a636a3",
   "metadata": {},
   "outputs": [
    {
     "name": "stdout",
     "output_type": "stream",
     "text": [
      "Current State: end\n"
     ]
    },
    {
     "data": {
      "text/plain": [
       "{'input1': 'FOX news',\n",
       " 'output1': ' Fox News is an American cable and satellite news television channel owned by the Fox Entertainment Group, a subsidiary of 21st Century Fox. The channel broadcasts primarily from studios at 1211 Avenue of the Americas'}"
      ]
     },
     "execution_count": 10,
     "metadata": {},
     "output_type": "execute_result"
    }
   ],
   "source": [
    "print(f\"Current State: {agent.current_state()}\")\n",
    "agent.memory"
   ]
  },
  {
   "cell_type": "markdown",
   "id": "dbb14a4a-fe47-432e-93e9-b8cee3a35da8",
   "metadata": {},
   "source": [
    "### Streaming Trigger\n",
    "#### The streaming trigger provides all the events coming during the changing of state.\n",
    "This includes:\n",
    "- **MACHINE_UPDATES**: Includes all changes to memory\n",
    "- **INPUTS**: The input for that transition\n",
    "- **SAFETY**: (if set) output of the moderation on either the prompt or output\n",
    "- **CHUNK**: Each LLM token will stream as a CHUNK"
   ]
  },
  {
   "cell_type": "code",
   "execution_count": 11,
   "id": "4b9d9d5d-0ea6-410b-983d-7ce7e6f6eaab",
   "metadata": {},
   "outputs": [
    {
     "name": "stdout",
     "output_type": "stream",
     "text": [
      "['MACHINE_UPDATE', [{'source': 'end', 'dest': 'end', 'trigger': 'mock_run', 'inputs': [{'key': 'output1'}], 'outputs': [{'key': 'output2', 'prompt': 'Walk me through: {{ output1 }}', 'schema': {'type': 'string'}, 'model_config': {'executor': 'mock'}}]}], {'input1': 'FOX news', 'output1': ' Fox News is an American cable and satellite news television channel owned by the Fox Entertainment Group, a subsidiary of 21st Century Fox. The channel broadcasts primarily from studios at 1211 Avenue of the Americas'}, 'end', 'mock_run']\n",
      "['INPUTS', {'output1': ' Fox News is an American cable and satellite news television channel owned by the Fox Entertainment Group, a subsidiary of 21st Century Fox. The channel broadcasts primarily from studios at 1211 Avenue of the Americas'}]\n",
      "[<YieldTasks.SET_ACTIVE_OUTPUT: 'SET_ACTIVE_OUTPUT'>, 'output2']\n",
      "[<YieldTasks.SET_MEMORY: 'SET_MEMORY'>, 'output2', {}]\n",
      "['SAFETY', 'SUCCESS', 'PROMPT', '{\"hate\": {\"score\": \"negligible\", \"flagged\": false}, \"harassment\": {\"score\": \"negligible\", \"flagged\": false}, \"sexual_content\": {\"score\": \"negligible\", \"flagged\": false}, \"dangerous\": {\"score\": \"negligible\", \"flagged\": false}}']\n",
      "[<YieldTasks.MODEL_CONFIG: 'MODEL_CONFIG'>, 'output2', {'executor': 'mock'}]\n",
      "['CHUNK', 'output2', '', 46, 46, 'input', 'mistralai/Mixtral-8x7B-Instruct-v0.1']\n",
      "['CHUNK', 'output2', 'Ut ', 1, 1, 'output', 'mistralai/Mixtral-8x7B-Instruct-v0.1']\n",
      "['CHUNK', 'output2', 'Id ', 1, 1, 'output', 'mistralai/Mixtral-8x7B-Instruct-v0.1']\n",
      "['CHUNK', 'output2', 'officia ', 1, 1, 'output', 'mistralai/Mixtral-8x7B-Instruct-v0.1']\n",
      "['CHUNK', 'output2', 'velit ', 1, 1, 'output', 'mistralai/Mixtral-8x7B-Instruct-v0.1']\n",
      "['CHUNK', 'output2', 'ex ', 1, 1, 'output', 'mistralai/Mixtral-8x7B-Instruct-v0.1']\n",
      "['CHUNK', 'output2', 'veniam ', 1, 1, 'output', 'mistralai/Mixtral-8x7B-Instruct-v0.1']\n",
      "['CHUNK', 'output2', 'enim ', 1, 1, 'output', 'mistralai/Mixtral-8x7B-Instruct-v0.1']\n",
      "['CHUNK', 'output2', 'dolor ', 1, 1, 'output', 'mistralai/Mixtral-8x7B-Instruct-v0.1']\n",
      "['CHUNK', 'output2', 'lorem ', 1, 1, 'output', 'mistralai/Mixtral-8x7B-Instruct-v0.1']\n",
      "['CHUNK', 'output2', 'irure ', 1, 1, 'output', 'mistralai/Mixtral-8x7B-Instruct-v0.1']\n",
      "['CHUNK', 'output2', 'et. ', 1, 1, 'output', 'mistralai/Mixtral-8x7B-Instruct-v0.1']\n",
      "['CHUNK', 'output2', 'Reprehenderit ', 1, 1, 'output', 'mistralai/Mixtral-8x7B-Instruct-v0.1']\n",
      "['CHUNK', 'output2', 'dolore ', 1, 1, 'output', 'mistralai/Mixtral-8x7B-Instruct-v0.1']\n",
      "['CHUNK', 'output2', 'veniam ', 1, 1, 'output', 'mistralai/Mixtral-8x7B-Instruct-v0.1']\n",
      "['CHUNK', 'output2', 'laboris ', 1, 1, 'output', 'mistralai/Mixtral-8x7B-Instruct-v0.1']\n",
      "['CHUNK', 'output2', 'sed ', 1, 1, 'output', 'mistralai/Mixtral-8x7B-Instruct-v0.1']\n",
      "['CHUNK', 'output2', 'est ', 1, 1, 'output', 'mistralai/Mixtral-8x7B-Instruct-v0.1']\n",
      "['CHUNK', 'output2', 'culpa ', 1, 1, 'output', 'mistralai/Mixtral-8x7B-Instruct-v0.1']\n",
      "['CHUNK', 'output2', 'est ', 1, 1, 'output', 'mistralai/Mixtral-8x7B-Instruct-v0.1']\n",
      "['CHUNK', 'output2', 'pariatur ', 1, 1, 'output', 'mistralai/Mixtral-8x7B-Instruct-v0.1']\n",
      "['CHUNK', 'output2', 'in. ', 1, 1, 'output', 'mistralai/Mixtral-8x7B-Instruct-v0.1']\n",
      "['CHUNK', 'output2', 'Ipsum ', 1, 1, 'output', 'mistralai/Mixtral-8x7B-Instruct-v0.1']\n",
      "['CHUNK', 'output2', 'id ', 1, 1, 'output', 'mistralai/Mixtral-8x7B-Instruct-v0.1']\n",
      "['CHUNK', 'output2', 'laborum ', 1, 1, 'output', 'mistralai/Mixtral-8x7B-Instruct-v0.1']\n",
      "['CHUNK', 'output2', 'esse ', 1, 1, 'output', 'mistralai/Mixtral-8x7B-Instruct-v0.1']\n",
      "['CHUNK', 'output2', 'labore ', 1, 1, 'output', 'mistralai/Mixtral-8x7B-Instruct-v0.1']\n",
      "['CHUNK', 'output2', 'ex ', 1, 1, 'output', 'mistralai/Mixtral-8x7B-Instruct-v0.1']\n",
      "['CHUNK', 'output2', 'laborum ', 1, 1, 'output', 'mistralai/Mixtral-8x7B-Instruct-v0.1']\n",
      "['CHUNK', 'output2', 'cillum ', 1, 1, 'output', 'mistralai/Mixtral-8x7B-Instruct-v0.1']\n",
      "['CHUNK', 'output2', 'est ', 1, 1, 'output', 'mistralai/Mixtral-8x7B-Instruct-v0.1']\n",
      "['CHUNK', 'output2', 'do. ', 1, 1, 'output', 'mistralai/Mixtral-8x7B-Instruct-v0.1']\n",
      "['CHUNK', 'output2', 'Dolor ', 1, 1, 'output', 'mistralai/Mixtral-8x7B-Instruct-v0.1']\n",
      "['CHUNK', 'output2', 'dolore ', 1, 1, 'output', 'mistralai/Mixtral-8x7B-Instruct-v0.1']\n",
      "['CHUNK', 'output2', 'in ', 1, 1, 'output', 'mistralai/Mixtral-8x7B-Instruct-v0.1']\n",
      "['CHUNK', 'output2', 'cupidatat ', 1, 1, 'output', 'mistralai/Mixtral-8x7B-Instruct-v0.1']\n",
      "['CHUNK', 'output2', 'mollit ', 1, 1, 'output', 'mistralai/Mixtral-8x7B-Instruct-v0.1']\n",
      "['CHUNK', 'output2', 'dolore ', 1, 1, 'output', 'mistralai/Mixtral-8x7B-Instruct-v0.1']\n",
      "['CHUNK', 'output2', 'esse ', 1, 1, 'output', 'mistralai/Mixtral-8x7B-Instruct-v0.1']\n",
      "['CHUNK', 'output2', 'id ', 1, 1, 'output', 'mistralai/Mixtral-8x7B-Instruct-v0.1']\n",
      "['CHUNK', 'output2', 'ea ', 1, 1, 'output', 'mistralai/Mixtral-8x7B-Instruct-v0.1']\n",
      "['CHUNK', 'output2', 'anim. ', 1, 1, 'output', 'mistralai/Mixtral-8x7B-Instruct-v0.1']\n",
      "['CHUNK', 'output2', 'Veniam ', 1, 1, 'output', 'mistralai/Mixtral-8x7B-Instruct-v0.1']\n",
      "['CHUNK', 'output2', 'deserunt ', 1, 1, 'output', 'mistralai/Mixtral-8x7B-Instruct-v0.1']\n",
      "['CHUNK', 'output2', 'veniam ', 1, 1, 'output', 'mistralai/Mixtral-8x7B-Instruct-v0.1']\n",
      "['CHUNK', 'output2', 'sed ', 1, 1, 'output', 'mistralai/Mixtral-8x7B-Instruct-v0.1']\n",
      "['CHUNK', 'output2', 'proident ', 1, 1, 'output', 'mistralai/Mixtral-8x7B-Instruct-v0.1']\n",
      "['CHUNK', 'output2', 'tempor ', 1, 1, 'output', 'mistralai/Mixtral-8x7B-Instruct-v0.1']\n",
      "['CHUNK', 'output2', 'dolore ', 1, 1, 'output', 'mistralai/Mixtral-8x7B-Instruct-v0.1']\n",
      "['CHUNK', 'output2', 'deserunt ', 1, 1, 'output', 'mistralai/Mixtral-8x7B-Instruct-v0.1']\n",
      "['CHUNK', 'output2', 'consequat.', 1, 1, 'output', 'mistralai/Mixtral-8x7B-Instruct-v0.1']\n",
      "['SAFETY', 'SUCCESS', 'RESPONSE', '{\"hate\": {\"score\": \"negligible\", \"flagged\": false}, \"harassment\": {\"score\": \"negligible\", \"flagged\": false}, \"sexual_content\": {\"score\": \"negligible\", \"flagged\": false}, \"dangerous\": {\"score\": \"negligible\", \"flagged\": false}}']\n",
      "['OUTPUT_VALIDATION_SUCCEEDED', 'output2']\n",
      "['TRANSITION_COMPLETED', 'mock_run']\n",
      "['MACHINE_UPDATE', [{'source': 'end', 'dest': 'end', 'trigger': 'mock_run', 'inputs': [{'key': 'output1'}], 'outputs': [{'key': 'output2', 'prompt': 'Walk me through: {{ output1 }}', 'schema': {'type': 'string'}, 'model_config': {'executor': 'mock'}}]}], {'input1': 'FOX news', 'output1': ' Fox News is an American cable and satellite news television channel owned by the Fox Entertainment Group, a subsidiary of 21st Century Fox. The channel broadcasts primarily from studios at 1211 Avenue of the Americas', 'output2': 'Ut Id officia velit ex veniam enim dolor lorem irure et. Reprehenderit dolore veniam laboris sed est culpa est pariatur in. Ipsum id laborum esse labore ex laborum cillum est do. Dolor dolore in cupidatat mollit dolore esse id ea anim. Veniam deserunt veniam sed proident tempor dolore deserunt consequat.'}, 'end', '']\n"
     ]
    }
   ],
   "source": [
    "async for value in agent.streaming_trigger(\n",
    "    \"mock_run\", {}\n",
    "):\n",
    "    print(value)"
   ]
  },
  {
   "cell_type": "markdown",
   "id": "3373d1cc-78c7-43d6-9de7-61f702cb664e",
   "metadata": {},
   "source": [
    "### That's the basics of HireSynth `synth_machine`!"
   ]
  }
 ],
 "metadata": {
  "kernelspec": {
   "display_name": "Python 3 (ipykernel)",
   "language": "python",
   "name": "python3"
  },
  "language_info": {
   "codemirror_mode": {
    "name": "ipython",
    "version": 3
   },
   "file_extension": ".py",
   "mimetype": "text/x-python",
   "name": "python",
   "nbconvert_exporter": "python",
   "pygments_lexer": "ipython3",
   "version": "3.12.1"
  }
 },
 "nbformat": 4,
 "nbformat_minor": 5
}
